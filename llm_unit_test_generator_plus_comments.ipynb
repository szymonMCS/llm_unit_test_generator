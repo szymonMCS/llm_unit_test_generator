{
 "cells": [
  {
   "cell_type": "code",
   "execution_count": 1,
   "id": "e6d225f4-6264-471c-8a18-5938938d4dfb",
   "metadata": {},
   "outputs": [
    {
     "data": {
      "text/plain": [
       "CompletedProcess(args=['pip', 'install', '-q', '-U', 'google-genai', 'openai', 'python-dotenv', 'gradio', 'requests'], returncode=0)"
      ]
     },
     "execution_count": 1,
     "metadata": {},
     "output_type": "execute_result"
    }
   ],
   "source": [
    "import subprocess\n",
    "subprocess.run(['pip', 'install', '-q', '-U', 'google-genai', 'openai', 'python-dotenv', 'gradio', 'requests'])"
   ]
  },
  {
   "cell_type": "code",
   "execution_count": 2,
   "id": "bfd4e235-bdb4-4b70-959d-e129b9e3ef9e",
   "metadata": {},
   "outputs": [],
   "source": [
    "import os\n",
    "import requests\n",
    "import json\n",
    "from dotenv import load_dotenv\n",
    "from openai import OpenAI\n",
    "from google import genai\n",
    "from google.genai import types\n",
    "import gradio as gr\n",
    "import subprocess\n",
    "import platform\n",
    "import tempfile\n",
    "import re\n",
    "import shutil"
   ]
  },
  {
   "cell_type": "code",
   "execution_count": 3,
   "id": "7699dc08-57ea-4642-8cbe-d44850775ca4",
   "metadata": {},
   "outputs": [],
   "source": [
    "load_dotenv(override=True)\n",
    "os.environ['OPENAI_API_KEY'] = os.getenv('OPENAI_API_KEY', 'your-key-if-not-using-env')\n",
    "os.environ['GOOGLE_API_KEY'] = os.getenv('GEMINI_API_KEY', 'your-key-if-not-using-env')"
   ]
  },
  {
   "cell_type": "code",
   "execution_count": 4,
   "id": "66e13e9d-cdcc-4fd6-b417-20f4cfef2430",
   "metadata": {},
   "outputs": [],
   "source": [
    "openai = OpenAI()\n",
    "OPENAI_MODEL = \"gpt-4o-mini\"\n",
    "GEMINI_MODEL = \"gemini-2.5-flash\""
   ]
  },
  {
   "cell_type": "code",
   "execution_count": 5,
   "id": "72c0db89-4098-49bd-8f24-bf77e594f4fa",
   "metadata": {},
   "outputs": [],
   "source": [
    "system_message = \"You are expert specializing in Test-Driven Development (TDD).\"\n",
    "system_message += \"Your primary task is to write high-quality, comprehensive unit tests for the provided code and to add clear, helpful comments where necessary to explain logic, complex sections, or edge cases.\"\n",
    "system_message += \"\"\" Key Guidelines for Output Generation:\n",
    "1. Programming Language: \n",
    "    *You must automatically detect the programming language of the input code and generate tests and comments strictly in that language.\n",
    "2. Unit Tests:\n",
    "    *Generate unit tests using the most idiomatic and standard testing framework for the detected language (e.g., pytest or unittest for Python, Jest for JavaScript, JUnit for Java, Go testing for Go).\n",
    "    *Tests must cover all logical branches, edge cases, and typical use scenarios of the input code.\n",
    "    *Use descriptive, clear test names.\n",
    "3. Comments:\n",
    "    *Add comments only where they genuinely improve readability or understanding.\n",
    "    *Use standard documentation practices for the detected language (e.g., docstrings, Javadoc, TSDoc) for functions/methods and classes.\n",
    "    *Crucially, include a brief comment explaining the purpose of each unit test method (i.e., what specific behavior it verifies).\n",
    "4. Content Order and Format (Strict Requirements for Automation):\n",
    "    *Order: Unit tests must be presented first, followed by the commented version of the original source code.\n",
    "    *Execution: If the detected language/framework supports it, the output should include the necessary execution statement (e.g., if __name__ == \"__main__\": in Python, or the main function if applicable) so that the file is easily executable.\n",
    "    *No External Text: The output must not include any introductory or concluding text, including initial or final Markdown code fences (```), greetings, or explanations. The entire response should be the raw, runnable code structure.\n",
    "    *Inclusion: The base/original source code must be included in the response (usually after the unit tests, in its commented form).\n",
    "5. For C++, you must not use any external testing frameworks like GTest. Instead, write a main() function that uses <iostream> and <cassert> to run tests. The program must exit(1) or return 1 if any assertion fails.\n",
    "6. For JavaScript, please generate tests using CommonJS modules (require) and not ES Modules (import).\n",
    "\"\"\""
   ]
  },
  {
   "cell_type": "code",
   "execution_count": 6,
   "id": "b4755d91-4299-405a-a105-1691dd872773",
   "metadata": {},
   "outputs": [],
   "source": [
    "def user_prompt_for(code):\n",
    "    user_prompt = \"Please analyze the programming language of the following code block, and then generate comprehensive unit tests and add necessary comments for it\"\n",
    "    user_prompt += \"\"\"Requirements:\n",
    "                        *Testing Framework (Optional): [If you have a preference, specify the framework, e.g., 'Use pytest', 'Use Jest', 'Use JUnit'].\n",
    "                        *Focus (Optional): [Specify a particular area of focus, e.g., 'Pay special attention to asynchronous operations', 'Ensure all database interactions are mocked'].\\n\\n\"\"\"\n",
    "    user_prompt += code\n",
    "    return user_prompt"
   ]
  },
  {
   "cell_type": "code",
   "execution_count": 7,
   "id": "0603765e-fd5f-45af-bb9e-016a4b68b8b6",
   "metadata": {},
   "outputs": [],
   "source": [
    "def messages_for(code):\n",
    "    return [\n",
    "        {\"role\": \"system\", \"content\": system_message},\n",
    "        {\"role\": \"user\", \"content\": user_prompt_for(code)}\n",
    "    ]"
   ]
  },
  {
   "cell_type": "code",
   "execution_count": 8,
   "id": "b3d0947e-27df-437f-85bb-63964464445f",
   "metadata": {},
   "outputs": [],
   "source": [
    "example1 = \"\"\"\n",
    "def calculate_discounted_price(original_price: float, discount_percentage: float) -> float:\n",
    "\n",
    "    if original_price <= 0:\n",
    "        raise ValueError(\"Cena oryginalna musi być dodatnia.\")\n",
    "    \n",
    "    if not (0 <= discount_percentage <= 100):\n",
    "        raise ValueError(\"Procent zniżki musi być między 0 a 100.\")\n",
    "\n",
    "    discount_factor = discount_percentage / 100\n",
    "    discounted_price = original_price * (1 - discount_factor)\n",
    "    \n",
    "    # Zaokrąglenie do dwóch miejsc po przecinku\n",
    "    return round(discounted_price, 2)\n",
    "\n",
    "# Funkcja pomocnicza\n",
    "def is_prime(n: int) -> bool:\n",
    "    if n <= 1:\n",
    "        return False\n",
    "    for i in range(2, int(n**0.5) + 1):\n",
    "        if n % i == 0:\n",
    "            return False\n",
    "    return True\n",
    "\"\"\""
   ]
  },
  {
   "cell_type": "code",
   "execution_count": 9,
   "id": "d42bde61-005c-4c2a-8f21-161ed84b4bd0",
   "metadata": {},
   "outputs": [],
   "source": [
    "example2 = \"\"\"\n",
    "public class BankAccount {\n",
    "    private double balance;\n",
    "\n",
    "    public BankAccount(double initialBalance) {\n",
    "        if (initialBalance < 0) {\n",
    "            throw new IllegalArgumentException(\"Początkowe saldo nie może być ujemne.\");\n",
    "        }\n",
    "        this.balance = initialBalance;\n",
    "    }\n",
    "\n",
    "    public double deposit(double amount) {\n",
    "        if (amount <= 0) {\n",
    "            throw new IllegalArgumentException(\"Kwota wpłaty musi być dodatnia.\");\n",
    "        }\n",
    "        balance += amount;\n",
    "        return balance;\n",
    "    }\n",
    "\n",
    "    public double withdraw(double amount) {\n",
    "        if (amount <= 0) {\n",
    "            throw new IllegalArgumentException(\"Kwota wypłaty musi być dodatnia.\");\n",
    "        }\n",
    "        if (balance < amount) {\n",
    "            throw new IllegalStateException(\"Niewystarczające środki.\");\n",
    "        }\n",
    "        balance -= amount;\n",
    "        return balance;\n",
    "    }\n",
    "\n",
    "    public double getBalance() {\n",
    "        return balance;\n",
    "    }\n",
    "}\n",
    "\"\"\""
   ]
  },
  {
   "cell_type": "code",
   "execution_count": 10,
   "id": "cf907e2c-9efa-4d0b-84b1-9c2144375e8c",
   "metadata": {},
   "outputs": [],
   "source": [
    "def stream_tests_gpt(code):\n",
    "    reply = \"\"\n",
    "    try:\n",
    "        stream = openai.chat.completions.create(model=OPENAI_MODEL, messages=messages_for(code), stream=True)\n",
    "        for chunk in stream:\n",
    "            fragment = chunk.choices[0].delta.content or \"\"\n",
    "            reply += fragment\n",
    "    except Exception as e:\n",
    "        reply = f\"[ERROR] GPT call failed: {e}\"\n",
    "    return reply"
   ]
  },
  {
   "cell_type": "code",
   "execution_count": 11,
   "id": "72d85190-938e-491b-b86c-1aaa1da0a1b0",
   "metadata": {},
   "outputs": [],
   "source": [
    "def stream_tests_gemini(code):\n",
    "    reply = \"\"\n",
    "    try:\n",
    "        client = genai.Client()\n",
    "\n",
    "        stream = client.models.generate_content_stream(\n",
    "            model=GEMINI_MODEL,\n",
    "            contents=user_prompt_for(code),\n",
    "            config=types.GenerateContentConfig(system_instruction=system_message)\n",
    "        )\n",
    "\n",
    "        for i, chunk in enumerate(stream):\n",
    "            fragment = \"\"\n",
    "            try:\n",
    "                fragment = chunk.text\n",
    "            except ValueError:\n",
    "                pass\n",
    "            reply += fragment\n",
    "\n",
    "    except Exception as e:\n",
    "        reply = f\"[ERROR] {e}\"\n",
    "    return reply"
   ]
  },
  {
   "cell_type": "code",
   "execution_count": 12,
   "id": "2fb3f710-c086-4bf7-b520-1eb563132ee1",
   "metadata": {},
   "outputs": [],
   "source": [
    "def select_model(code, model):\n",
    "    if not code or code.strip() == \"\":\n",
    "        return \"No code provided.\"\n",
    "    if model == \"GPT\":\n",
    "        return stream_tests_gpt(code)\n",
    "    elif model == \"Gemini\":\n",
    "        return stream_tests_gemini(code)\n",
    "    else:\n",
    "        return \"Invalid model selected.\""
   ]
  },
  {
   "cell_type": "code",
   "execution_count": 13,
   "id": "c43f30eb-1c98-43b9-aea4-4ea268496b2e",
   "metadata": {},
   "outputs": [],
   "source": [
    "def select_sample_code(sample_code):\n",
    "    if sample_code==\"example1\":\n",
    "        return example1\n",
    "    elif sample_code==\"example2\":\n",
    "        return example2\n",
    "    else:\n",
    "        return \"\""
   ]
  },
  {
   "cell_type": "code",
   "execution_count": 14,
   "id": "200143e0-6e92-4c83-8f97-c18b4f7c2a48",
   "metadata": {},
   "outputs": [],
   "source": [
    "JUNIT_JAR = \"junit-platform-console-standalone-1.10.3.jar\"\n",
    "JUNIT_URL = \"https://repo1.maven.org/maven2/org/junit/platform/junit-platform-console-standalone/1.10.3/junit-platform-console-standalone-1.10.3.jar\""
   ]
  },
  {
   "cell_type": "code",
   "execution_count": 15,
   "id": "b1744ac6-e9c6-4ca0-b4cc-fe9a48908dcb",
   "metadata": {},
   "outputs": [],
   "source": [
    "def download_junit():\n",
    "    if not os.path.exists(JUNIT_JAR):\n",
    "        try:\n",
    "            r = requests.get(JUNIT_URL)\n",
    "            r.raise_for_status()\n",
    "            with open(JUNIT_JAR, 'wb') as f:\n",
    "                f.write(r.content)\n",
    "            print(f\"Successfully downloaded {JUNIT_JAR}\")\n",
    "        except requests.RequestException as e:\n",
    "            print(f\"Error downloading JUnit: {e}\")\n",
    "            return False\n",
    "    return True"
   ]
  },
  {
   "cell_type": "code",
   "execution_count": 16,
   "id": "dcefacfe-1391-463e-9620-6a22cd3216b7",
   "metadata": {},
   "outputs": [],
   "source": [
    "VISUAL_STUDIO_2022_TOOLS = \"C:\\\\Program Files (x86)\\\\Microsoft Visual Studio\\\\2022\\\\BuildTools\\\\Common7\\\\Tools\\\\VsDevCmd.bat\"\n",
    "\n",
    "simple_cpp = \"\"\"\n",
    "#include <iostream>\n",
    "\n",
    "int main() {\n",
    "    std::cout << \"Hello\";\n",
    "    return 0;\n",
    "}\n",
    "\"\"\""
   ]
  },
  {
   "cell_type": "code",
   "execution_count": 17,
   "id": "fca4dfbb-91f1-4036-ad1e-f1ab87ceb9a5",
   "metadata": {},
   "outputs": [],
   "source": [
    "def get_cpp_compiler():\n",
    "    compilers = []\n",
    "    my_platform = platform.system()\n",
    "    if my_platform == 'Windows':\n",
    "        compilers = [\n",
    "            ('g++', ['g++', '-o', '{filename_base}', '{filename_base}.cpp']),\n",
    "            ('clang++', ['clang++', '-o', '{filename_base}', '{filename_base}.cpp']),\n",
    "            ('cl', [\"cmd\", \"/c\", VISUAL_STUDIO_2022_TOOLS, \"&\", \"cl\", '{filename_base}.cpp'])\n",
    "        ]\n",
    "    else:\n",
    "        compilers = [\n",
    "            ('g++', ['g++', '-o', '{filename_base}', '{filename_base}.cpp']),\n",
    "            ('clang++', ['clang++', '-o', '{filename_base}', '{filename_base}.cpp'])\n",
    "        ]\n",
    "    \n",
    "    with tempfile.TemporaryDirectory() as tmpdir:\n",
    "        simple_file = os.path.join(tmpdir, 'simple.cpp')\n",
    "        with open(simple_file, 'w') as f:\n",
    "            f.write(simple_cpp)\n",
    "        \n",
    "        for compiler_name, compile_template in compilers:\n",
    "            try:\n",
    "                subprocess.run([compiler_name, '--version'], check=True, capture_output=True)\n",
    "                \n",
    "                compile_cmd = [arg.replace('{filename_base}', 'simple') for arg in compile_template]\n",
    "                subprocess.run(compile_cmd, cwd=tmpdir, check=True, capture_output=True)\n",
    "                \n",
    "                exe_name = 'simple.exe' if my_platform == 'Windows' else 'simple'\n",
    "                exe_path = os.path.join(tmpdir, exe_name)\n",
    "                result = subprocess.run([exe_path], cwd=tmpdir, capture_output=True, text=True, check=True)\n",
    "                \n",
    "                if \"Hello\" in result.stdout:\n",
    "                    return [my_platform, compiler_name, compile_template]\n",
    "            except Exception:\n",
    "                pass\n",
    "    \n",
    "    return [my_platform, \"Unavailable\", []]"
   ]
  },
  {
   "cell_type": "code",
   "execution_count": 18,
   "id": "dc3eab72-d368-4914-9519-2b6a8c0a0f3c",
   "metadata": {},
   "outputs": [],
   "source": [
    "def detect_language_llm(tests, model):\n",
    "    detection_prompt = (\n",
    "        \"Detect the programming language of the following code. \"\n",
    "        'Output in JSON format like: {\"language\": \"python\", \"extension\": \"py\"}\\n'\n",
    "        \"Supported: python (py), java (java), cpp (cpp), csharp (cs), javascript (js).\\n\\n\"\n",
    "        \"Code:\\n\"\n",
    "        + (tests[:2000])  # truncated\n",
    "    )\n",
    "    raw = \"\"\n",
    "    try:\n",
    "        if model == \"GPT\":\n",
    "            resp = openai.chat.completions.create(\n",
    "                model=OPENAI_MODEL,\n",
    "                messages=[{\"role\": \"user\", \"content\": detection_prompt}]\n",
    "            )\n",
    "            raw = resp.choices[0].message.content\n",
    "        elif model == \"Gemini\":\n",
    "            client = genai.Client()\n",
    "            resp = client.models.generate_content(\n",
    "                model=GEMINI_MODEL,\n",
    "                contents=detection_prompt\n",
    "            )\n",
    "            try:\n",
    "                raw = resp.text\n",
    "            except ValueError as ve:  # Handle safety blocks\n",
    "                print(f\"Gemini response blocked: {ve}\")\n",
    "                raw = \"\"\n",
    "        else:\n",
    "            raw = \"\"\n",
    "    except Exception as e:\n",
    "        print(f\"Error in LLM language detection: {e}\")\n",
    "        raw = \"\"\n",
    "    \n",
    "    try:\n",
    "        parsed = json.loads(raw)\n",
    "        return parsed.get(\"language\", \"unknown\"), parsed.get(\"extension\", \"\")\n",
    "    except Exception:\n",
    "        if \"def \" in tests and \":\" in tests:\n",
    "            return \"python\", \"py\"\n",
    "        if \"public class\" in tests or \"import java\" in tests:\n",
    "            return \"java\", \"java\"\n",
    "        if \"#include\" in tests or \"std::\" in tests:\n",
    "            return \"cpp\", \"cpp\"\n",
    "        if \"using System\" in tests or \"namespace\" in tests:\n",
    "            return \"csharp\", \"cs\"\n",
    "        if \"function \" in tests or \"console.log\" in tests or \"module.exports\" in tests:\n",
    "            return \"javascript\", \"js\"\n",
    "        return \"unknown\", \"\""
   ]
  },
  {
   "cell_type": "code",
   "execution_count": 19,
   "id": "0523a55e-756e-40ba-8ad0-09b9629e14a5",
   "metadata": {},
   "outputs": [],
   "source": [
    "def run_python_tests(filename, tmpdir, tests):\n",
    "    if 'import pytest' in tests or 'pytest' in tests:\n",
    "        try:\n",
    "            subprocess.run(['pytest', '--version'], check=True, capture_output=True)\n",
    "            cmd = ['pytest', filename]\n",
    "        except Exception:\n",
    "            return \"pytest is not installed. Please install pytest or use unittest.\"\n",
    "    else:\n",
    "        cmd = ['python', filename]\n",
    "    try:\n",
    "        result = subprocess.run(cmd, cwd=tmpdir, capture_output=True, text=True, check=False)\n",
    "        output = result.stdout + (('\\nErrors:\\n' + result.stderr) if result.stderr else '')\n",
    "    except Exception as e:\n",
    "        output = str(e)\n",
    "    return output"
   ]
  },
  {
   "cell_type": "code",
   "execution_count": 20,
   "id": "82840410-89a0-4128-b401-94faa66e1258",
   "metadata": {},
   "outputs": [],
   "source": [
    "JAVA_HOME = r\"C:\\Users\\.....\" #you have to put here your JDK's bin directory PATH"
   ]
  },
  {
   "cell_type": "code",
   "execution_count": 21,
   "id": "0018b38c-957e-4997-a392-0a35b880dbcb",
   "metadata": {},
   "outputs": [],
   "source": [
    "def run_java_tests(filename, tmpdir):\n",
    "    javac_path = os.path.join(JAVA_HOME, 'bin', 'javac.exe')\n",
    "    java_path = os.path.join(JAVA_HOME, 'bin', 'java.exe')\n",
    "    \n",
    "    try:\n",
    "        subprocess.run([javac_path, '-version'], check=True, capture_output=True)\n",
    "        subprocess.run([java_path, '-version'], check=True, capture_output=True)\n",
    "    except Exception as e:\n",
    "        return f\"Java compiler or runtime not available: {str(e)}\"\n",
    "    \n",
    "    if not download_junit():\n",
    "        return \"Failed to download JUnit.\"\n",
    "    cmd_compile = [javac_path, '-cp', JUNIT_JAR, filename]\n",
    "    result = subprocess.run(cmd_compile, cwd=tmpdir, capture_output=True, text=True)\n",
    "    if result.returncode != 0:\n",
    "        return result.stderr\n",
    "    with open(filename, 'r') as f:\n",
    "        content = f.read()\n",
    "        match = re.search(r'public\\s+class\\s+(\\w+)', content)\n",
    "        if match:\n",
    "            class_name = match.group(1)\n",
    "        else:\n",
    "            return \"Could not find public test class name.\"\n",
    "    \n",
    "    cmd_run = [java_path, '-jar', os.path.abspath(JUNIT_JAR), '--class-path', '.', '--select-class', class_name]\n",
    "    result = subprocess.run(cmd_run, cwd=tmpdir, capture_output=True, text=True)\n",
    "    output = result.stdout + (('\\nErrors:\\n' + result.stderr) if result.stderr else '')\n",
    "    return output"
   ]
  },
  {
   "cell_type": "code",
   "execution_count": 22,
   "id": "ec367875-c8b3-4179-ada4-57fe6dff3eb2",
   "metadata": {},
   "outputs": [],
   "source": [
    "def run_cpp_tests(filename_base, tmpdir):\n",
    "    global compiler_cmd\n",
    "    if compiler_cmd[1] == \"Unavailable\":\n",
    "        return \"C++ compiler not available.\"\n",
    "    compile_template = compiler_cmd[2]\n",
    "    compile_cmd = [arg.replace('{filename_base}', filename_base) for arg in compile_template]\n",
    "    result = subprocess.run(compile_cmd, cwd=tmpdir, capture_output=True, text=True)\n",
    "    if result.returncode != 0:\n",
    "        return result.stderr\n",
    "    exe_name = f\"{filename_base}.exe\" if platform.system() == \"Windows\" else filename_base\n",
    "    cmd_run = [os.path.join('.', exe_name)]\n",
    "    result = subprocess.run(cmd_run, cwd=tmpdir, capture_output=True, text=True)\n",
    "    output = result.stdout + (('\\nErrors:\\n' + result.stderr) if result.stderr else '')\n",
    "    return output"
   ]
  },
  {
   "cell_type": "code",
   "execution_count": 23,
   "id": "4e2617c9-fab0-4dec-99a3-2e45c48f867b",
   "metadata": {},
   "outputs": [],
   "source": [
    "def run_csharp_tests(filename, tmpdir):\n",
    "    try:\n",
    "        subprocess.run(['dotnet', '--version'], check=True, capture_output=True)\n",
    "    except Exception:\n",
    "        return \".NET SDK not available.\"\n",
    "    project_dir = os.path.join(tmpdir, 'TestProject')\n",
    "    os.mkdir(project_dir)\n",
    "    result = subprocess.run(['dotnet', 'new', 'xunit', '--no-restore'], cwd=project_dir, capture_output=True, text=True)\n",
    "    if result.returncode != 0:\n",
    "        return result.stderr\n",
    "    default_test_file = os.path.join(project_dir, 'UnitTest1.cs')\n",
    "    try:\n",
    "        os.remove(default_test_file)\n",
    "    except FileNotFoundError:\n",
    "        pass\n",
    "    shutil.copy(filename, os.path.join(project_dir, 'Tests.cs'))\n",
    "    result = subprocess.run(['dotnet', 'test', '--no-restore'], cwd=project_dir, capture_output=True, text=True)\n",
    "    output = result.stdout + (('\\nErrors:\\n' + result.stderr) if result.stderr else '')\n",
    "    return output"
   ]
  },
  {
   "cell_type": "code",
   "execution_count": 24,
   "id": "29b8169b-0e2e-4c58-be30-f9991cf144e8",
   "metadata": {},
   "outputs": [],
   "source": [
    "def run_javascript_tests(filename, tmpdir):\n",
    "    try:\n",
    "        subprocess.run(['jest', '--version'], check=True, capture_output=True)\n",
    "    except Exception:\n",
    "        return \"Jest is not installed. Please install Jest globally or locally.\"\n",
    "    cmd = ['jest', filename]\n",
    "    result = subprocess.run(cmd, cwd=tmpdir, capture_output=True, text=True)\n",
    "    output = result.stdout + (('\\nErrors:\\n' + result.stderr) if result.stderr else '')\n",
    "    return output"
   ]
  },
  {
   "cell_type": "code",
   "execution_count": 25,
   "id": "e8b3d444-0b08-4130-b274-81a6b2c89506",
   "metadata": {},
   "outputs": [],
   "source": [
    "def run_unit_tests(tests, model):\n",
    "    language, ext = detect_language_llm(tests or \"\", model)\n",
    "    if language == 'unknown':\n",
    "        return \"Unknown programming language detected.\"\n",
    "    with tempfile.TemporaryDirectory() as tmpdir:\n",
    "        filename_base = 'test_code'\n",
    "        filename = os.path.join(tmpdir, f\"{filename_base}.{ext}\")\n",
    "        with open(filename, 'w', encoding='utf-8') as f:\n",
    "            f.write(tests)\n",
    "        if language == 'python':\n",
    "            return run_python_tests(filename, tmpdir, tests)\n",
    "        elif language == 'java':\n",
    "            return run_java_tests(filename, tmpdir)\n",
    "        elif language == 'cpp':\n",
    "            return run_cpp_tests(filename_base, tmpdir)\n",
    "        elif language == 'csharp':\n",
    "            return run_csharp_tests(filename, tmpdir)\n",
    "        elif language == 'javascript':\n",
    "            return run_javascript_tests(filename, tmpdir)\n",
    "        else:\n",
    "            return f\"Language '{language}' not supported by runner.\""
   ]
  },
  {
   "cell_type": "code",
   "execution_count": 26,
   "id": "2a373d0f-7c5e-453c-acdb-5fbec5c9c009",
   "metadata": {},
   "outputs": [
    {
     "name": "stdout",
     "output_type": "stream",
     "text": [
      "* Running on local URL:  http://127.0.0.1:7861\n",
      "* To create a public link, set `share=True` in `launch()`.\n"
     ]
    },
    {
     "data": {
      "text/html": [
       "<div><iframe src=\"http://127.0.0.1:7861/\" width=\"100%\" height=\"500\" allow=\"autoplay; camera; microphone; clipboard-read; clipboard-write;\" frameborder=\"0\" allowfullscreen></iframe></div>"
      ],
      "text/plain": [
       "<IPython.core.display.HTML object>"
      ]
     },
     "metadata": {},
     "output_type": "display_data"
    },
    {
     "data": {
      "text/plain": []
     },
     "execution_count": 26,
     "metadata": {},
     "output_type": "execute_result"
    }
   ],
   "source": [
    "compiler_cmd = get_cpp_compiler()\n",
    "\n",
    "with gr.Blocks() as ui:\n",
    "    with gr.Row():\n",
    "        code_to_test = gr.Textbox(label=\"Code to test\", lines=20)\n",
    "        sample_code = gr.Radio([\"example1\", \"example2\", \"Your own code\"], label=\"Sample code\", value=\"example1\")\n",
    "        tests = gr.Textbox(label=\"Unit tests\", lines=20)\n",
    "    with gr.Row():\n",
    "        selected_model = gr.Dropdown([\"GPT\", \"Gemini\"], label=\"Select model\", value=\"GPT\")\n",
    "        generate_tests = gr.Button(\"Generate unit tests\")\n",
    "        run_tests = gr.Button(\"Run unit tests\")\n",
    "    with gr.Row():\n",
    "        test_result = gr.Textbox(label=\"Unit tests results\", lines=15)\n",
    "    with gr.Row():\n",
    "        architecture = gr.Radio([compiler_cmd[0]], label=\"Architecture\", interactive=False, value=compiler_cmd[0])\n",
    "        compiler = gr.Radio([compiler_cmd[1]], label=\"Compiler\", interactive=False, value=compiler_cmd[1])\n",
    "\n",
    "    # wiring\n",
    "    sample_code.change(lambda v: example1 if v == \"example1\" else (example2 if v == \"example2\" else \"\"), inputs=[sample_code], outputs=[code_to_test])\n",
    "    generate_tests.click(select_model, inputs=[code_to_test, selected_model], outputs=[tests])\n",
    "    run_tests.click(run_unit_tests, inputs=[tests, selected_model], outputs=[test_result])\n",
    "\n",
    "ui.launch(inbrowser=True)"
   ]
  },
  {
   "cell_type": "code",
   "execution_count": null,
   "id": "953c7cfa-23db-4819-8abc-a76e58432198",
   "metadata": {},
   "outputs": [],
   "source": []
  }
 ],
 "metadata": {
  "kernelspec": {
   "display_name": "Python 3 (ipykernel)",
   "language": "python",
   "name": "python3"
  },
  "language_info": {
   "codemirror_mode": {
    "name": "ipython",
    "version": 3
   },
   "file_extension": ".py",
   "mimetype": "text/x-python",
   "name": "python",
   "nbconvert_exporter": "python",
   "pygments_lexer": "ipython3",
   "version": "3.11.13"
  }
 },
 "nbformat": 4,
 "nbformat_minor": 5
}
